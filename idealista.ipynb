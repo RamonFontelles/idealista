{
  "nbformat": 4,
  "nbformat_minor": 0,
  "metadata": {
    "colab": {
      "provenance": [],
      "authorship_tag": "ABX9TyPQ6KQOQNKuSE9lU4t2vJ1M",
      "include_colab_link": true
    },
    "kernelspec": {
      "name": "python3",
      "display_name": "Python 3"
    },
    "language_info": {
      "name": "python"
    }
  },
  "cells": [
    {
      "cell_type": "markdown",
      "metadata": {
        "id": "view-in-github",
        "colab_type": "text"
      },
      "source": [
        "<a href=\"https://colab.research.google.com/github/RamonFontelles/idealista/blob/main/idealista.ipynb\" target=\"_parent\"><img src=\"https://colab.research.google.com/assets/colab-badge.svg\" alt=\"Open In Colab\"/></a>"
      ]
    },
    {
      "cell_type": "markdown",
      "source": [
        "# Librerias"
      ],
      "metadata": {
        "id": "9BMoza4XG1KD"
      }
    },
    {
      "cell_type": "code",
      "execution_count": 261,
      "metadata": {
        "id": "YOLb7K2k1GIE"
      },
      "outputs": [],
      "source": [
        "import requests\n",
        "from bs4 import BeautifulSoup"
      ]
    },
    {
      "cell_type": "code",
      "source": [
        "from pandas import DataFrame\n",
        "from logging import exception\n",
        "import re"
      ],
      "metadata": {
        "id": "7zBqkhfn89gN"
      },
      "execution_count": 262,
      "outputs": []
    },
    {
      "cell_type": "markdown",
      "source": [
        "# COMO ACCEDER A LA URL"
      ],
      "metadata": {
        "id": "2QqUHLPWG7_d"
      }
    },
    {
      "cell_type": "code",
      "source": [
        "# 2. Definir la URL y los Headers para simular un navegador\n",
        "# La URL es la de la casa que quieres analizar.\n",
        "\n",
        "#url = \"https://www.idealista.com/inmueble/107170538/\" #1\n",
        "url = \"https://www.idealista.com/inmueble/88733710/\""
      ],
      "metadata": {
        "id": "Imhc-3-3-gnV"
      },
      "execution_count": 263,
      "outputs": []
    },
    {
      "cell_type": "code",
      "source": [
        "# ¡Esto es MUY importante! Los headers hacen que nuestra petición parezca\n",
        "# que viene de un navegador real (Chrome en este caso) y no de un robot.\n",
        "# Sin esto, Idealista nos bloqueará con un error 403 (Prohibido).\n",
        "headers = {\n",
        "    \"accept\": \"text/html,application/xhtml+xml,application/xml;q=0.9,image/avif,image/webp,image/apng,*/*;q=0.8,application/signed-exchange;v=b3;q=0.7\",\n",
        "    \"accept-encoding\": \"gzip, deflate, br, zstd\",\n",
        "    \"accept-language\": \"es-ES,es;q=0.9,en;q=0.8\",\n",
        "    \"cache-control\": \"max-age=0\",\n",
        "    \"cookie\": \"_pprv=eyJjb25zZW50Ijp7IjAiOnsibW9kZSI6Im9wdC1pbiJ9LCIxIjp7Im1vZGUiOiJvcHQtaW4ifSwiMiI6eyJtb2RlIjoib3B0LWluIn0sIjMiOnsibW9kZSI6Im9wdC1pbiJ9LCI0Ijp7Im1vZGUiOiJvcHQtaW4ifSwiNSI6eyJtb2RlIjoib3B0LWluIn0sIjYiOnsibW9kZSI6Im9wdC1pbiJ9LCI3Ijp7Im1vZGUiOiJvcHQtaW4ifX0sInB1cnBvc2VzIjpudWxsLCJfdCI6Im1sODdsanRmfG01anNvMmhmIn0%3D; _pcid=%7B%22browserId%22%3A%22m5jso2hdvbtfq55r%22%2C%22_t%22%3A%22ml87lk52%7Cm5jso2t2%22%7D; _pctx=%7Bu%7DN4IgrgzgpgThIC4B2YA2qA05owMoBcBDfSREQpAeyRCwgEt8oBJAE0RXSwH18yBbVAA4A7KgDWAVgDMAH36SAVhEoAmfNJABfIA; ABTasty=uid=y414qq4bt0a149dn&fst=1749216783138&pst=-1&cst=1749216783138&ns=1&pvt=1&pvis=1&th=; galleryHasBeenBoosted=true; askToSaveAlertPopUp=true; utag_main__sn=9; userUUID=bca4b99d-39c3-4391-b379-03fdc27b1869; SESSION=733bddb87ea43a90~9d08fc99-db59-4443-8b87-dd177c345553; contact9d08fc99-db59-4443-8b87-dd177c345553=\\\"{'maxNumberContactsAllow':10}\\\"; cookieSearch-1=\\\"/venta-viviendas/crevillente-alicante/:1750184635582\\\"; _last_search=officialZone; utag_main__prevEventLink=; __rtbh.uid=%7B%22eventType%22%3A%22uid%22%2C%22id%22%3A%22unknown%22%2C%22expiryDate%22%3A%222026-06-17T18%3A41%3A50.369Z%22%7D; __rtbh.lid=%7B%22eventType%22%3A%22lid%22%2C%22id%22%3A%22c0IUCy4I0E17TZnVtdQZ%22%2C%22expiryDate%22%3A%222026-06-17T18%3A41%3A50.370Z%22%7D; datadome=dnToYColvjIyEAcN5tDn_tStDkoVtG2tu4lTBWaT1im6t35B06PKn9gV4vL9Pk04JUDWzDHn6No3qHDcGvsmXHNPIZcwIvm1lKPlU6BRu~tL1EIzrM_PMkMgFt9jdtk5\",\n",
        "    \"priority\": \"u=0, i\",\n",
        "    \"referer\": \"https://www.idealista.com/venta-viviendas/crevillente-alicante/\",\n",
        "    \"sec-ch-device-memory\": \"8\",\n",
        "    \"sec-ch-ua\": \"\\\"Google Chrome\\\";v=\\\"137\\\", \\\"Chromium\\\";v=\\\"137\\\", \\\"Not/A)Brand\\\";v=\\\"24\\\"\",\n",
        "    \"sec-ch-ua-arch\": \"\\\"\\\"\",\n",
        "    \"sec-ch-ua-full-version-list\": \"\\\"Google Chrome\\\";v=\\\"137.0.7151.104\\\", \\\"Chromium\\\";v=\\\"137.0.7151.104\\\", \\\"Not/A)Brand\\\";v=\\\"24.0.0.0\\\"\",\n",
        "    \"sec-ch-ua-mobile\": \"?1\",\n",
        "    \"sec-ch-ua-model\": \"\\\"Nexus 5\\\"\",\n",
        "    \"sec-ch-ua-platform\": \"\\\"Android\\\"\",\n",
        "    \"sec-fetch-dest\": \"document\",\n",
        "    \"sec-fetch-mode\": \"navigate\",\n",
        "    \"sec-fetch-site\": \"same-origin\",\n",
        "    \"sec-fetch-user\": \"?1\",\n",
        "    \"upgrade-insecure-requests\": \"1\",\n",
        "    \"user-agent\": \"Mozilla/5.0 (Linux; Android 6.0; Nexus 5 Build/MRA58N) AppleWebKit/537.36 (KHTML, like Gecko) Chrome/137.0.0.0 Mobile Safari/537.36\"\n",
        "}\n",
        "\n",
        "# 3. Hacer la petición a la página web\n",
        "print(\"Accediendo a la página de Idealista...\")\n",
        "response = requests.get(url, headers=headers)"
      ],
      "metadata": {
        "colab": {
          "base_uri": "https://localhost:8080/"
        },
        "id": "fnA02CKE1Kmn",
        "outputId": "ca2a9743-4f90-4c87-e6dd-b6abb4ca8982"
      },
      "execution_count": 264,
      "outputs": [
        {
          "output_type": "stream",
          "name": "stdout",
          "text": [
            "Accediendo a la página de Idealista...\n"
          ]
        }
      ]
    },
    {
      "cell_type": "markdown",
      "source": [
        "# 3. Parsear el HTML con BeautifulSoup\n"
      ],
      "metadata": {
        "id": "fmgVBOTj4Y5y"
      }
    },
    {
      "cell_type": "code",
      "source": [
        "soup = BeautifulSoup(response.content, 'lxml')"
      ],
      "metadata": {
        "collapsed": true,
        "id": "ePJYyF4M2zAi"
      },
      "execution_count": 265,
      "outputs": []
    },
    {
      "cell_type": "code",
      "source": [
        "# Otra manera de sacar el titulo\n",
        "titulo =  soup.find(\"span\", {\"class\":\"main-info__title-main\"})\n",
        "titulo.text.strip()"
      ],
      "metadata": {
        "colab": {
          "base_uri": "https://localhost:8080/",
          "height": 35
        },
        "id": "2e0RskR36Sum",
        "outputId": "962f38bb-952b-4b06-e68d-dbf9c1788009"
      },
      "execution_count": 266,
      "outputs": [
        {
          "output_type": "execute_result",
          "data": {
            "text/plain": [
              "'Chalet pareado en venta en Centro'"
            ],
            "application/vnd.google.colaboratory.intrinsic+json": {
              "type": "string"
            }
          },
          "metadata": {},
          "execution_count": 266
        }
      ]
    },
    {
      "cell_type": "code",
      "source": [
        "# 4. Crear un diccionario vacío para almacenar los datos\n",
        "datos_inmueble = {}\n",
        "\n",
        "# 5. Extraer datos principales (Título, Precio, Descripción)\n",
        "print(\"Extrayendo datos principales...\")\n",
        "# a) Extraer el Título\n",
        "# Buscamos la etiqueta <h1> que tiene la clase 'main-info__title-main'\n",
        "title_element = soup.find(\"h1\").find(\"span\").text\n",
        "# Limpiamos el texto de espacios extra al principio o al final\n",
        "#titulo = title_element.text.strip() if title_element else \"Título no encontrado\"\n",
        "titulo = title_element\n",
        "datos_inmueble['titulo'] = titulo\n",
        "titulo"
      ],
      "metadata": {
        "colab": {
          "base_uri": "https://localhost:8080/",
          "height": 53
        },
        "id": "J6vbKDEz4gLH",
        "outputId": "58c2f965-aa49-4ae2-be37-9d327b3e222e"
      },
      "execution_count": 267,
      "outputs": [
        {
          "output_type": "stream",
          "name": "stdout",
          "text": [
            "Extrayendo datos principales...\n"
          ]
        },
        {
          "output_type": "execute_result",
          "data": {
            "text/plain": [
              "'Chalet pareado en venta en Centro'"
            ],
            "application/vnd.google.colaboratory.intrinsic+json": {
              "type": "string"
            }
          },
          "metadata": {},
          "execution_count": 267
        }
      ]
    },
    {
      "cell_type": "code",
      "source": [
        "# PRECIO\n",
        "precio = soup.find(\"span\", {\"class\":\"info-data-price\"}).text.strip()\n",
        "datos_inmueble['precio'] = precio.replace(\".\", \"\").replace(\"€\", \"\").strip()\n",
        "\n",
        "datos_inmueble['precio']"
      ],
      "metadata": {
        "colab": {
          "base_uri": "https://localhost:8080/",
          "height": 35
        },
        "id": "IqfG28DPD4aa",
        "outputId": "1558a8d4-ef47-491c-a1fa-4cb5ec19cbcb"
      },
      "execution_count": 268,
      "outputs": [
        {
          "output_type": "execute_result",
          "data": {
            "text/plain": [
              "'230000'"
            ],
            "application/vnd.google.colaboratory.intrinsic+json": {
              "type": "string"
            }
          },
          "metadata": {},
          "execution_count": 268
        }
      ]
    },
    {
      "cell_type": "code",
      "source": [
        "# UBICACIÓN\n",
        "ubicacion = soup.find(\"div\", {\"id\":'headerMap'}).text.strip().strip()\n",
        "\n",
        "# Elimina la palabra \"Ubicación\" y convierte saltos de línea múltiples en uno solo\n",
        "limpia = ubicacion.replace(\"Ubicación\", \"\").replace(\"\\n\", \",\")\n",
        "\n",
        "# Elimina comas duplicadas y espacios redundantes\n",
        "datos_inmueble['ubicacion'] = ','.join([x.strip() for x in limpia.split(\",\") if x.strip()])\n",
        "\n",
        "datos_inmueble['ubicacion']"
      ],
      "metadata": {
        "colab": {
          "base_uri": "https://localhost:8080/",
          "height": 35
        },
        "id": "jE9zju55A-uq",
        "outputId": "22c9bc01-b3be-4c1f-83f0-5f9202f56e3b"
      },
      "execution_count": 269,
      "outputs": [
        {
          "output_type": "execute_result",
          "data": {
            "text/plain": [
              "'Distrito Centro,Santa Pola,Baix Vinalopó,Alicante'"
            ],
            "application/vnd.google.colaboratory.intrinsic+json": {
              "type": "string"
            }
          },
          "metadata": {},
          "execution_count": 269
        }
      ]
    },
    {
      "cell_type": "code",
      "source": [
        "# CARACTERÍSTICAS PRINCIPALES\n",
        "\n",
        "caracteristicas = soup.find(\"div\", {\"class\":'info-features'}).text.strip()\n",
        "caracteristicas = caracteristicas.replace(\"\\n\", \",\")\n",
        "caracteristicas = ','.join([x.strip() for x in caracteristicas.split(\",\") if x.strip()])\n",
        "print(caracteristicas)\n",
        "datos_inmueble['m2'] = caracteristicas.split(\",\")[0][:-3]\n",
        "datos_inmueble['habitaciones']= caracteristicas.split(\",\")[1][:-5]\n",
        "try:\n",
        "  datos_inmueble['planta'] = caracteristicas.split(\",\")[2]\n",
        "except:\n",
        "  datos_inmueble['planta'] = \"No indicado\"\n",
        "\n",
        "datos_inmueble['m2'], datos_inmueble['habitaciones'], datos_inmueble['planta']"
      ],
      "metadata": {
        "colab": {
          "base_uri": "https://localhost:8080/"
        },
        "id": "fN_KW9uTKpaw",
        "outputId": "e8edecff-fee4-46f8-814f-e353768c9917"
      },
      "execution_count": 270,
      "outputs": [
        {
          "output_type": "stream",
          "name": "stdout",
          "text": [
            "90 m²,5 hab.\n"
          ]
        },
        {
          "output_type": "execute_result",
          "data": {
            "text/plain": [
              "('90', '5', 'No indicado')"
            ]
          },
          "metadata": {},
          "execution_count": 270
        }
      ]
    },
    {
      "cell_type": "code",
      "source": [
        "# Para la descripción, buscamos el contenedor y luego el párrafo dentro\n",
        "descripcion_container = soup.find('div', class_='adCommentsLanguage')\n",
        "if descripcion_container:\n",
        "    # Usamos .replace() para convertir los <br/> en saltos de línea legibles\n",
        "    datos_inmueble['descripcion'] = descripcion_container.find('p').get_text(separator='\\n').strip()\n",
        "datos_inmueble['descripcion']"
      ],
      "metadata": {
        "colab": {
          "base_uri": "https://localhost:8080/",
          "height": 192
        },
        "collapsed": true,
        "id": "CBPYjIRl8jB7",
        "outputId": "8a464ccf-3860-4021-9d20-35a1d351349c"
      },
      "execution_count": 271,
      "outputs": [
        {
          "output_type": "execute_result",
          "data": {
            "text/plain": [
              "'IDEALPISOS A. P. I. (Agente de la Propiedad Inmobiliaria) Nº 01151, les presenta esta casa unifamiliar ubicada en Santa Pola, a tan solo unos minutos del Supermercado Eroski y demás comercios.\\nCuenta con unas vistas exteriores y despejadas al colegio, pabellón y parques infantiles.\\nLa vivienda consta de 2 Plantas de 87 m² + terraza que se distribuyen de la siguiente manera:\\n-En la planta baja tiene una vivienda de unos 70 m², dispone de salón/comedor, cocina, un baño con plato de ducha y 1 habitación + patio, donde se puede hacer otra habitación si se desea.\\n-En la primera planta disponemos de la segunda vivienda la cual está compuesta por:\\n3 dormitorios, salón/comedor, un baño completo con plato de ducha y cocina independiente, todas sus estancias disponen de mucha luminosidad ya que la vivienda hace esquina y es muy luminosa.\\n-En la última planta tenemos el acceso a la amplia terraza con vistas panorámicas tanto al colegio y como al parque infantil. En la cual se puede construir una planta más para hacer otra vivienda si lo desea.\\nMuy buena oportunidad de inversión ya que dispone de 2 vivienda y posibilidad de una tercera vivienda!\\n! No dude en contactar con nosotros y poder visitarla!'"
            ],
            "application/vnd.google.colaboratory.intrinsic+json": {
              "type": "string"
            }
          },
          "metadata": {},
          "execution_count": 271
        }
      ]
    },
    {
      "cell_type": "code",
      "source": [
        "\n",
        "# 6. Extraer Características (Básicas, Equipamiento, Certificado)\n",
        "datos_inmueble['caracteristicas'] = {}\n",
        "\n",
        "# Buscamos el contenedor principal de todas las características\n",
        "details_container = soup.find('div', class_='details-property')\n",
        "\n",
        "if details_container:\n",
        "    # a) Características básicas\n",
        "    basic_features_div = details_container.find('div', class_='details-property-feature-one')\n",
        "    if basic_features_div:\n",
        "        items = basic_features_div.find_all('li')\n",
        "        datos_inmueble['caracteristicas']['basicas'] = [item.text.strip() for item in items]\n",
        "\n",
        "    # b) Equipamiento y Certificado energético\n",
        "    extra_features_div = details_container.find('div', class_='details-property-feature-two')\n",
        "    if extra_features_div:\n",
        "        # Equipamiento\n",
        "        h2_equipamiento = extra_features_div.find('h2', string='Equipamiento')\n",
        "        if h2_equipamiento:\n",
        "            ul_equipamiento = h2_equipamiento.find_next_sibling('div').find('ul')\n",
        "            items_equip = ul_equipamiento.find_all('li')\n",
        "            datos_inmueble['caracteristicas']['equipamiento'] = [item.text.strip() for item in items_equip]\n",
        "\n",
        "        # Certificado energético\n",
        "        h2_certificado = extra_features_div.find('h2', string='Certificado energético')\n",
        "        if h2_certificado:\n",
        "            datos_inmueble['caracteristicas']['certificado_energetico'] = {}\n",
        "            ul_certificado = h2_certificado.find_next_sibling('div').find('ul')\n",
        "            # Extraer Consumo\n",
        "            try:\n",
        "                consumo_li = ul_certificado.find('span', string='Consumo: ').find_parent('li')\n",
        "                # El truco: la calificación está en la clase del icono\n",
        "                clase_consumo = consumo_li.find('span', class_=lambda x: x and x.startswith('icon-energy-')).get('class')[-1]\n",
        "                calificacion_consumo = clase_consumo.split('-')[-1].upper()\n",
        "                datos_inmueble['caracteristicas']['certificado_energetico']['consumo'] = calificacion_consumo\n",
        "            except:\n",
        "                datos_inmueble['caracteristicas']['certificado_energetico']['consumo'] = \"No indicado\"\n",
        "            # Extraer Emisiones\n",
        "            try:\n",
        "              emisiones_li = ul_certificado.find('span', string='Emisiones: ').find_parent('li')\n",
        "              clase_emisiones = emisiones_li.find('span', class_=lambda x: x and x.startswith('icon-energy-')).get('class')[-1]\n",
        "              calificacion_emisiones = clase_emisiones.split('-')[-1].upper()\n",
        "              datos_inmueble['caracteristicas']['certificado_energetico']['emisiones'] = calificacion_emisiones\n",
        "            except:\n",
        "              datos_inmueble['caracteristicas']['certificado_energetico']['emisiones'] = \"No indicado\"\n",
        "\n",
        "# --- FIN DE LA EXTRACCIÓN ---\n",
        "\n",
        "# 7. Imprimir el diccionario resultante de forma legible\n",
        "print(\"\\n--- DICCIONARIO CON LOS DATOS EXTRAÍDOS ---\")\n",
        "print(datos_inmueble)"
      ],
      "metadata": {
        "colab": {
          "base_uri": "https://localhost:8080/"
        },
        "id": "thubCx4k81Ch",
        "outputId": "5ea53f5a-1e79-4eff-9a0a-7cf58d41ffce"
      },
      "execution_count": 272,
      "outputs": [
        {
          "output_type": "stream",
          "name": "stdout",
          "text": [
            "\n",
            "--- DICCIONARIO CON LOS DATOS EXTRAÍDOS ---\n",
            "{'titulo': 'Chalet pareado en venta en Centro', 'precio': '230000', 'ubicacion': 'Distrito Centro,Santa Pola,Baix Vinalopó,Alicante', 'm2': '90', 'habitaciones': '5', 'planta': 'No indicado', 'descripcion': 'IDEALPISOS A. P. I. (Agente de la Propiedad Inmobiliaria) Nº 01151, les presenta esta casa unifamiliar ubicada en Santa Pola, a tan solo unos minutos del Supermercado Eroski y demás comercios.\\nCuenta con unas vistas exteriores y despejadas al colegio, pabellón y parques infantiles.\\nLa vivienda consta de 2 Plantas de 87 m² + terraza que se distribuyen de la siguiente manera:\\n-En la planta baja tiene una vivienda de unos 70 m², dispone de salón/comedor, cocina, un baño con plato de ducha y 1 habitación + patio, donde se puede hacer otra habitación si se desea.\\n-En la primera planta disponemos de la segunda vivienda la cual está compuesta por:\\n3 dormitorios, salón/comedor, un baño completo con plato de ducha y cocina independiente, todas sus estancias disponen de mucha luminosidad ya que la vivienda hace esquina y es muy luminosa.\\n-En la última planta tenemos el acceso a la amplia terraza con vistas panorámicas tanto al colegio y como al parque infantil. En la cual se puede construir una planta más para hacer otra vivienda si lo desea.\\nMuy buena oportunidad de inversión ya que dispone de 2 vivienda y posibilidad de una tercera vivienda!\\n! No dude en contactar con nosotros y poder visitarla!', 'caracteristicas': {'basicas': ['Chalet pareado', '90 m² construidos, 85 m² útiles', '5 habitaciones', '2 baños', 'Terraza', 'Segunda mano/buen estado', 'Trastero', 'No dispone de calefacción'], 'certificado_energetico': {'consumo': 'No indicado', 'emisiones': 'No indicado'}}}\n"
          ]
        }
      ]
    },
    {
      "cell_type": "code",
      "source": [
        "# --- MOSTRAR RESULTADOS COMPLETOS ---\n",
        "\n",
        "print(\"\\n--- DATOS DEL INMUEBLE ---\")\n",
        "print(f\"Título: {datos_inmueble['titulo']}\")\n",
        "print(f\"Precio: {datos_inmueble['precio']} €\")\n",
        "print(f\"Ubicación: {datos_inmueble['ubicacion']}\")\n",
        "print(f\"Habitaciones: {datos_inmueble['habitaciones']}\")\n",
        "print(f\"Metros cuadrados: {datos_inmueble['m2']}\")\n",
        "print(f\"Plnata: {datos_inmueble['planta']}\")\n",
        "\n",
        "print(\"\\nDescripción:\")\n",
        "print(datos_inmueble['descripcion'])\n",
        "\n",
        "print(\"\\nCaracterísticas:\")\n",
        "caracteristicas = datos_inmueble.get('caracteristicas', {})\n",
        "\n",
        "if caracteristicas:\n",
        "    for clave, valor in caracteristicas.items():\n",
        "        print(f\"\\n· {clave.capitalize()}:\")\n",
        "        if isinstance(valor, list):\n",
        "            for item in valor:\n",
        "                print(f\"  - {item}\")\n",
        "        elif isinstance(valor, dict):\n",
        "            for subclave, subvalor in valor.items():\n",
        "                print(f\"  · {subclave.capitalize()}: {subvalor}\")\n",
        "        else:\n",
        "            print(f\"  - {valor}\")\n",
        "else:\n",
        "    print(\"No se encontraron características.\")\n",
        "\n"
      ],
      "metadata": {
        "colab": {
          "base_uri": "https://localhost:8080/"
        },
        "id": "EkYtXRQxEqdK",
        "outputId": "4b25891b-4f44-4e79-9611-bbbccf039df9"
      },
      "execution_count": 273,
      "outputs": [
        {
          "output_type": "stream",
          "name": "stdout",
          "text": [
            "\n",
            "--- DATOS DEL INMUEBLE ---\n",
            "Título: Chalet pareado en venta en Centro\n",
            "Precio: 230000 €\n",
            "Ubicación: Distrito Centro,Santa Pola,Baix Vinalopó,Alicante\n",
            "Habitaciones: 5\n",
            "Metros cuadrados: 90\n",
            "Plnata: No indicado\n",
            "\n",
            "Descripción:\n",
            "IDEALPISOS A. P. I. (Agente de la Propiedad Inmobiliaria) Nº 01151, les presenta esta casa unifamiliar ubicada en Santa Pola, a tan solo unos minutos del Supermercado Eroski y demás comercios.\n",
            "Cuenta con unas vistas exteriores y despejadas al colegio, pabellón y parques infantiles.\n",
            "La vivienda consta de 2 Plantas de 87 m² + terraza que se distribuyen de la siguiente manera:\n",
            "-En la planta baja tiene una vivienda de unos 70 m², dispone de salón/comedor, cocina, un baño con plato de ducha y 1 habitación + patio, donde se puede hacer otra habitación si se desea.\n",
            "-En la primera planta disponemos de la segunda vivienda la cual está compuesta por:\n",
            "3 dormitorios, salón/comedor, un baño completo con plato de ducha y cocina independiente, todas sus estancias disponen de mucha luminosidad ya que la vivienda hace esquina y es muy luminosa.\n",
            "-En la última planta tenemos el acceso a la amplia terraza con vistas panorámicas tanto al colegio y como al parque infantil. En la cual se puede construir una planta más para hacer otra vivienda si lo desea.\n",
            "Muy buena oportunidad de inversión ya que dispone de 2 vivienda y posibilidad de una tercera vivienda!\n",
            "! No dude en contactar con nosotros y poder visitarla!\n",
            "\n",
            "Características:\n",
            "\n",
            "· Basicas:\n",
            "  - Chalet pareado\n",
            "  - 90 m² construidos, 85 m² útiles\n",
            "  - 5 habitaciones\n",
            "  - 2 baños\n",
            "  - Terraza\n",
            "  - Segunda mano/buen estado\n",
            "  - Trastero\n",
            "  - No dispone de calefacción\n",
            "\n",
            "· Certificado_energetico:\n",
            "  · Consumo: No indicado\n",
            "  · Emisiones: No indicado\n"
          ]
        }
      ]
    },
    {
      "cell_type": "code",
      "source": [
        "# 1. Importar las librerías necesarias\n",
        "from bs4 import BeautifulSoup\n",
        "import json  # Para procesar los datos de las fotos\n",
        "import pprint # Para imprimir el diccionario de forma bonita\n",
        "\n",
        "# 2. El contenido HTML que proporcionaste\n",
        "# Asegúrate de pegar todo el código HTML del anuncio dentro de las triples comillas.\n",
        "html_content = \"\"\"\n",
        "<!DOCTYPE html>\n",
        "<html class=\"\" data-userauth=\"false\" env=\"es\" lang=\"es\" username=\"\">\n",
        "<!-- PEGA AQUÍ EL HTML COMPLETO -->\n",
        "</html>\n",
        "\"\"\"\n",
        "\n",
        "# 3. Parsear el HTML con BeautifulSoup\n",
        "print(\"Analizando el código HTML del anuncio...\")\n",
        "soup = BeautifulSoup(html_content, 'lxml')\n",
        "\n",
        "# 4. Crear un diccionario para almacenar los datos\n",
        "datos_casa = {}\n",
        "\n",
        "# --- EXTRACCIÓN DE DATOS ---\n",
        "\n",
        "\n",
        "# b) LINKS DE LAS FOTOS (El método más eficaz)\n",
        "print(\"Extrayendo links de las fotos...\")\n",
        "# ¡Aquí está la magia! Los datos de las fotos están en un script, lo que es más fácil de procesar.\n",
        "scripts = soup.find_all('script')\n",
        "photo_data_script = None\n",
        "for script in scripts:\n",
        "    if script.string and 'adMultimediasInfo' in script.string:\n",
        "        photo_data_script = script.string\n",
        "        break\n",
        "\n",
        "if photo_data_script:\n",
        "    # Limpiamos el string para que sea un JSON válido\n",
        "    json_string = photo_data_script.split('adMultimediasInfo = ', 1)[1].strip().rstrip(';')\n",
        "    multimedia_data = json.loads(json_string)\n",
        "\n",
        "    # Extraemos las URLs de alta resolución\n",
        "    fotos = multimedia_data.get('fullScreenGalleryPics', [])\n",
        "    datos_casa['links_fotos'] = [foto['imageDataService'] for foto in fotos]\n",
        "else:\n",
        "    datos_casa['links_fotos'] = [\"No se encontraron datos de fotos en el script.\"]\n",
        "\n",
        "# c) DATOS ADICIONALES SUGERIDOS\n",
        "print(\"Extrayendo datos adicionales sugeridos...\")\n",
        "datos_casa['sugerencias'] = {}\n",
        "\n",
        "# Descripción del anunciante\n",
        "descripcion_container = soup.find('div', class_='adCommentsLanguage')\n",
        "if descripcion_container and descripcion_container.find('p'):\n",
        "    datos_casa['sugerencias']['descripcion'] = descripcion_container.find('p').get_text(separator='\\n').strip()\n",
        "\n",
        "# Características Básicas\n",
        "basic_features_div = soup.find('div', class_='details-property-feature-one')\n",
        "if basic_features_div:\n",
        "    items = basic_features_div.find_all('li')\n",
        "    datos_casa['sugerencias']['caracteristicas_basicas'] = [item.text.strip() for item in items]\n",
        "\n",
        "# Equipamiento\n",
        "extra_features_div = soup.find('div', class_='details-property-feature-two')\n",
        "if extra_features_div and extra_features_div.find('h2', string='Equipamiento'):\n",
        "    ul_equipamiento = extra_features_div.find('h2', string='Equipamiento').find_next_sibling('div').find('ul')\n",
        "    items_equip = ul_equipamiento.find_all('li')\n",
        "    datos_casa['sugerencias']['equipamiento'] = [item.text.strip() for item in items_equip]\n",
        "\n",
        "\n",
        "\n",
        "\n",
        "# --- FIN DE LA EXTRACCIÓN ---\n",
        "\n",
        "# 5. Imprimir el diccionario resultante de forma legible\n",
        "print(\"\\n--- DATOS EXTRAÍDOS DEL INMUEBLE ---\")\n",
        "pprint.pprint(datos_casa)"
      ],
      "metadata": {
        "colab": {
          "base_uri": "https://localhost:8080/"
        },
        "id": "44fC7JORBX0E",
        "outputId": "116e97fa-a069-48b9-b0e9-61a8aea9506e"
      },
      "execution_count": 274,
      "outputs": [
        {
          "output_type": "stream",
          "name": "stdout",
          "text": [
            "Analizando el código HTML del anuncio...\n",
            "Extrayendo links de las fotos...\n",
            "Extrayendo datos adicionales sugeridos...\n",
            "\n",
            "--- DATOS EXTRAÍDOS DEL INMUEBLE ---\n",
            "{'links_fotos': ['No se encontraron datos de fotos en el script.'],\n",
            " 'sugerencias': {}}\n"
          ]
        }
      ]
    }
  ]
}