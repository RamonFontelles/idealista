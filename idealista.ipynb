{
  "nbformat": 4,
  "nbformat_minor": 0,
  "metadata": {
    "colab": {
      "provenance": [],
      "authorship_tag": "ABX9TyNxglDsBUItbsTQy7IjLMP2",
      "include_colab_link": true
    },
    "kernelspec": {
      "name": "python3",
      "display_name": "Python 3"
    },
    "language_info": {
      "name": "python"
    }
  },
  "cells": [
    {
      "cell_type": "markdown",
      "metadata": {
        "id": "view-in-github",
        "colab_type": "text"
      },
      "source": [
        "<a href=\"https://colab.research.google.com/github/RamonFontelles/idealista/blob/main/idealista.ipynb\" target=\"_parent\"><img src=\"https://colab.research.google.com/assets/colab-badge.svg\" alt=\"Open In Colab\"/></a>"
      ]
    },
    {
      "cell_type": "markdown",
      "source": [
        "# Librerias"
      ],
      "metadata": {
        "id": "9BMoza4XG1KD"
      }
    },
    {
      "cell_type": "code",
      "execution_count": 160,
      "metadata": {
        "id": "YOLb7K2k1GIE"
      },
      "outputs": [],
      "source": [
        "import requests\n",
        "from bs4 import BeautifulSoup"
      ]
    },
    {
      "cell_type": "code",
      "source": [
        "from pandas import DataFrame\n",
        "from logging import exception"
      ],
      "metadata": {
        "id": "7zBqkhfn89gN"
      },
      "execution_count": 161,
      "outputs": []
    },
    {
      "cell_type": "markdown",
      "source": [
        "# COMO ACCEDER A LA URL"
      ],
      "metadata": {
        "id": "2QqUHLPWG7_d"
      }
    },
    {
      "cell_type": "code",
      "source": [
        "# 2. Definir la URL y los Headers para simular un navegador\n",
        "# La URL es la de la casa que quieres analizar.\n",
        "\n",
        "#url = \"https://www.idealista.com/inmueble/107170538/\" #1\n",
        "url = \"https://www.idealista.com/inmueble/107170538/\""
      ],
      "metadata": {
        "id": "Imhc-3-3-gnV"
      },
      "execution_count": 162,
      "outputs": []
    },
    {
      "cell_type": "code",
      "source": [
        "# ¡Esto es MUY importante! Los headers hacen que nuestra petición parezca\n",
        "# que viene de un navegador real (Chrome en este caso) y no de un robot.\n",
        "# Sin esto, Idealista nos bloqueará con un error 403 (Prohibido).\n",
        "headers = {\n",
        "    \"accept\": \"text/html,application/xhtml+xml,application/xml;q=0.9,image/avif,image/webp,image/apng,*/*;q=0.8,application/signed-exchange;v=b3;q=0.7\",\n",
        "    \"accept-encoding\": \"gzip, deflate, br, zstd\",\n",
        "    \"accept-language\": \"es-ES,es;q=0.9,en;q=0.8\",\n",
        "    \"cache-control\": \"max-age=0\",\n",
        "    \"cookie\": \"_pprv=eyJjb25zZW50Ijp7IjAiOnsibW9kZSI6Im9wdC1pbiJ9LCIxIjp7Im1vZGUiOiJvcHQtaW4ifSwiMiI6eyJtb2RlIjoib3B0LWluIn0sIjMiOnsibW9kZSI6Im9wdC1pbiJ9LCI0Ijp7Im1vZGUiOiJvcHQtaW4ifSwiNSI6eyJtb2RlIjoib3B0LWluIn0sIjYiOnsibW9kZSI6Im9wdC1pbiJ9LCI3Ijp7Im1vZGUiOiJvcHQtaW4ifX0sInB1cnBvc2VzIjpudWxsLCJfdCI6Im1sODdsanRmfG01anNvMmhmIn0%3D; _pcid=%7B%22browserId%22%3A%22m5jso2hdvbtfq55r%22%2C%22_t%22%3A%22ml87lk52%7Cm5jso2t2%22%7D; _pctx=%7Bu%7DN4IgrgzgpgThIC4B2YA2qA05owMoBcBDfSREQpAeyRCwgEt8oBJAE0RXSwH18yBbVAA4A7KgDWAVgDMAH36SAVhEoAmfNJABfIA; ABTasty=uid=y414qq4bt0a149dn&fst=1749216783138&pst=-1&cst=1749216783138&ns=1&pvt=1&pvis=1&th=; galleryHasBeenBoosted=true; askToSaveAlertPopUp=true; utag_main__sn=9; userUUID=bca4b99d-39c3-4391-b379-03fdc27b1869; SESSION=733bddb87ea43a90~9d08fc99-db59-4443-8b87-dd177c345553; contact9d08fc99-db59-4443-8b87-dd177c345553=\\\"{'maxNumberContactsAllow':10}\\\"; cookieSearch-1=\\\"/venta-viviendas/crevillente-alicante/:1750184635582\\\"; _last_search=officialZone; utag_main__prevEventLink=; __rtbh.uid=%7B%22eventType%22%3A%22uid%22%2C%22id%22%3A%22unknown%22%2C%22expiryDate%22%3A%222026-06-17T18%3A41%3A50.369Z%22%7D; __rtbh.lid=%7B%22eventType%22%3A%22lid%22%2C%22id%22%3A%22c0IUCy4I0E17TZnVtdQZ%22%2C%22expiryDate%22%3A%222026-06-17T18%3A41%3A50.370Z%22%7D; datadome=dnToYColvjIyEAcN5tDn_tStDkoVtG2tu4lTBWaT1im6t35B06PKn9gV4vL9Pk04JUDWzDHn6No3qHDcGvsmXHNPIZcwIvm1lKPlU6BRu~tL1EIzrM_PMkMgFt9jdtk5\",\n",
        "    \"priority\": \"u=0, i\",\n",
        "    \"referer\": \"https://www.idealista.com/venta-viviendas/crevillente-alicante/\",\n",
        "    \"sec-ch-device-memory\": \"8\",\n",
        "    \"sec-ch-ua\": \"\\\"Google Chrome\\\";v=\\\"137\\\", \\\"Chromium\\\";v=\\\"137\\\", \\\"Not/A)Brand\\\";v=\\\"24\\\"\",\n",
        "    \"sec-ch-ua-arch\": \"\\\"\\\"\",\n",
        "    \"sec-ch-ua-full-version-list\": \"\\\"Google Chrome\\\";v=\\\"137.0.7151.104\\\", \\\"Chromium\\\";v=\\\"137.0.7151.104\\\", \\\"Not/A)Brand\\\";v=\\\"24.0.0.0\\\"\",\n",
        "    \"sec-ch-ua-mobile\": \"?1\",\n",
        "    \"sec-ch-ua-model\": \"\\\"Nexus 5\\\"\",\n",
        "    \"sec-ch-ua-platform\": \"\\\"Android\\\"\",\n",
        "    \"sec-fetch-dest\": \"document\",\n",
        "    \"sec-fetch-mode\": \"navigate\",\n",
        "    \"sec-fetch-site\": \"same-origin\",\n",
        "    \"sec-fetch-user\": \"?1\",\n",
        "    \"upgrade-insecure-requests\": \"1\",\n",
        "    \"user-agent\": \"Mozilla/5.0 (Linux; Android 6.0; Nexus 5 Build/MRA58N) AppleWebKit/537.36 (KHTML, like Gecko) Chrome/137.0.0.0 Mobile Safari/537.36\"\n",
        "}\n",
        "\n",
        "# 3. Hacer la petición a la página web\n",
        "print(\"Accediendo a la página de Idealista...\")\n",
        "response = requests.get(url, headers=headers)"
      ],
      "metadata": {
        "colab": {
          "base_uri": "https://localhost:8080/"
        },
        "id": "fnA02CKE1Kmn",
        "outputId": "7b9428f8-1dc7-40f9-e698-92b175cf48e1"
      },
      "execution_count": 163,
      "outputs": [
        {
          "output_type": "stream",
          "name": "stdout",
          "text": [
            "Accediendo a la página de Idealista...\n"
          ]
        }
      ]
    },
    {
      "cell_type": "markdown",
      "source": [
        "# 3. Parsear el HTML con BeautifulSoup\n"
      ],
      "metadata": {
        "id": "fmgVBOTj4Y5y"
      }
    },
    {
      "cell_type": "code",
      "source": [
        "soup = BeautifulSoup(response.content, 'lxml')"
      ],
      "metadata": {
        "collapsed": true,
        "id": "ePJYyF4M2zAi"
      },
      "execution_count": 164,
      "outputs": []
    },
    {
      "cell_type": "code",
      "source": [
        "# Otra manera de sacar el titulo\n",
        "titulo =  soup.find(\"span\", {\"class\":\"main-info__title-main\"})\n",
        "titulo.text.strip()"
      ],
      "metadata": {
        "colab": {
          "base_uri": "https://localhost:8080/",
          "height": 35
        },
        "id": "2e0RskR36Sum",
        "outputId": "7af2111c-8fd2-4587-80a3-86d93e6d40a7"
      },
      "execution_count": 165,
      "outputs": [
        {
          "output_type": "execute_result",
          "data": {
            "text/plain": [
              "'Casa o chalet independiente en venta en calle San Antonio de la Florida'"
            ],
            "application/vnd.google.colaboratory.intrinsic+json": {
              "type": "string"
            }
          },
          "metadata": {},
          "execution_count": 165
        }
      ]
    },
    {
      "cell_type": "code",
      "source": [
        "# 4. Crear un diccionario vacío para almacenar los datos\n",
        "datos_inmueble = {}\n",
        "\n",
        "# 5. Extraer datos principales (Título, Precio, Descripción)\n",
        "print(\"Extrayendo datos principales...\")\n",
        "# a) Extraer el Título\n",
        "# Buscamos la etiqueta <h1> que tiene la clase 'main-info__title-main'\n",
        "title_element = soup.find(\"h1\").find(\"span\").text\n",
        "# Limpiamos el texto de espacios extra al principio o al final\n",
        "#titulo = title_element.text.strip() if title_element else \"Título no encontrado\"\n",
        "titulo = title_element\n",
        "datos_inmueble['titulo'] = titulo\n",
        "titulo\n",
        "\n"
      ],
      "metadata": {
        "colab": {
          "base_uri": "https://localhost:8080/",
          "height": 53
        },
        "id": "J6vbKDEz4gLH",
        "outputId": "87b4f6c9-6fae-4687-993b-1fd55c51ddb6"
      },
      "execution_count": 166,
      "outputs": [
        {
          "output_type": "stream",
          "name": "stdout",
          "text": [
            "Extrayendo datos principales...\n"
          ]
        },
        {
          "output_type": "execute_result",
          "data": {
            "text/plain": [
              "'Casa o chalet independiente en venta en calle San Antonio de la Florida'"
            ],
            "application/vnd.google.colaboratory.intrinsic+json": {
              "type": "string"
            }
          },
          "metadata": {},
          "execution_count": 166
        }
      ]
    },
    {
      "cell_type": "code",
      "source": [
        "# PRECIO\n",
        "precio = soup.find(\"span\", {\"class\":\"info-data-price\"}).text.strip()\n",
        "datos_inmueble['precio'] = precio.replace(\".\", \"\").replace(\"€\", \"\").strip()\n",
        "\n",
        "datos_inmueble['precio']"
      ],
      "metadata": {
        "colab": {
          "base_uri": "https://localhost:8080/",
          "height": 35
        },
        "id": "IqfG28DPD4aa",
        "outputId": "12afbd16-3199-4ee3-f495-b06d0424d7f5"
      },
      "execution_count": 167,
      "outputs": [
        {
          "output_type": "execute_result",
          "data": {
            "text/plain": [
              "'397000'"
            ],
            "application/vnd.google.colaboratory.intrinsic+json": {
              "type": "string"
            }
          },
          "metadata": {},
          "execution_count": 167
        }
      ]
    },
    {
      "cell_type": "code",
      "source": [
        "# UBICACIÓN\n",
        "ubicacion = soup.find(\"div\", {\"id\":'headerMap'}).text.strip().strip()\n",
        "\n",
        "# Elimina la palabra \"Ubicación\" y convierte saltos de línea múltiples en uno solo\n",
        "limpia = ubicacion.replace(\"Ubicación\", \"\").replace(\"\\n\", \",\")\n",
        "\n",
        "# Elimina comas duplicadas y espacios redundantes\n",
        "datos_inmueble['ubicacion'] = ','.join([x.strip() for x in limpia.split(\",\") if x.strip()])\n",
        "\n",
        "datos_inmueble['ubicacion']"
      ],
      "metadata": {
        "colab": {
          "base_uri": "https://localhost:8080/",
          "height": 35
        },
        "id": "jE9zju55A-uq",
        "outputId": "831c14ec-b05f-4a1d-e2da-76d8983691d4"
      },
      "execution_count": 168,
      "outputs": [
        {
          "output_type": "execute_result",
          "data": {
            "text/plain": [
              "'Calle San Antonio de la Florida,Crevillente,Baix Vinalopó,Alicante'"
            ],
            "application/vnd.google.colaboratory.intrinsic+json": {
              "type": "string"
            }
          },
          "metadata": {},
          "execution_count": 168
        }
      ]
    },
    {
      "cell_type": "code",
      "source": [
        "# Para la descripción, buscamos el contenedor y luego el párrafo dentro\n",
        "descripcion_container = soup.find('div', class_='adCommentsLanguage')\n",
        "if descripcion_container:\n",
        "    # Usamos .replace() para convertir los <br/> en saltos de línea legibles\n",
        "    datos_inmueble['descripcion'] = descripcion_container.find('p').get_text(separator='\\n').strip()\n",
        "datos_inmueble['descripcion']"
      ],
      "metadata": {
        "colab": {
          "base_uri": "https://localhost:8080/",
          "height": 192
        },
        "collapsed": true,
        "id": "CBPYjIRl8jB7",
        "outputId": "16feb2fc-7cbf-4668-a66c-bd68705592ee"
      },
      "execution_count": 169,
      "outputs": [
        {
          "output_type": "execute_result",
          "data": {
            "text/plain": [
              "'¿Vivir en la cumbre y tener la ciudad a 5 minutos? ¡Es posible! \\nDescubre esta exclusiva villa en La Florida, Crevillente, donde la tranquilidad de la naturaleza se combina con la comodidad de la ciudad. Con 575 m² construidos sobre una parcela de 2.580 m², esta vivienda unifamiliar de tres plantas ofrece vistas espectaculares al valle y al paraje natural del Hondo, lejos del ruido urbano. \\nCaracterísticas destacadas: \\nUbicación privilegiada: A solo 5 minutos de Crevillente, con acceso rápido a servicios, comercios y ocio. \\nDiseño rústico y elegante: Integrada en la montaña, con tres plantas (dos sobre rasante y un sótano con acceso para vehículos). \\nAmplias terrazas y zonas exteriores: 200 m² de terraza, piscina de 60 m², jacuzzi, barbacoa y huerta ecológica. \\nInteriores espaciosos: Salón-comedor con chimenea y vistas de 180º, cocina con barra americana, bodega para 840 botellas, y cuatro habitaciones (incluida una suite principal). \\nBuhardilla multifuncional: 61 m² con terraza, ideal como dormitorio, gimnasio o sala de juegos. \\nComodidades adicionales: Cobertizo para vehículos, trastero, depósito de agua fluvial y zona para animales domésticos. \\n¡Vive en armonía con la naturaleza sin renunciar a la comodidad urbana! \\n¿A qué esperas? ¡Pide ya tu visita y descubre tu refugio ideal! \\n Tu hogar soñado está más cerca de lo que imaginas.\\nEl precio no incluye lo siguiente: impuestos ( ITP) y otros gastos de la Compraventa (notaria, gestoría y registro). La oferta está sujeta a cambios de precio o retirada del mercado sin previo aviso. Este anuncio en su conjunto, incluyendo textos, fotos, imágenes o cualquier otro contenido del mismo, no es vinculante dado que la información es ofrecida por terceros y puede contener errores. Se muestra a título informativo y no contractual.'"
            ],
            "application/vnd.google.colaboratory.intrinsic+json": {
              "type": "string"
            }
          },
          "metadata": {},
          "execution_count": 169
        }
      ]
    },
    {
      "cell_type": "code",
      "source": [
        "# CARACTERÍSTICAS PRINCIPALES\n",
        "datos_inmueble['caracteristicas'] = {}\n",
        "caracteristicas = soup.find(\"div\", {\"class\":'info-features'}).text.strip().strip()\n",
        "caracteristicas = caracteristicas.replace(\"\\n\", \",\")\n",
        "datos_inmueble['caracteristicas']['principales'] = ','.join([x.strip() for x in caracteristicas.split(\",\") if x.strip()])\n",
        "datos_inmueble['caracteristicas']['principales']"
      ],
      "metadata": {
        "colab": {
          "base_uri": "https://localhost:8080/",
          "height": 35
        },
        "id": "fN_KW9uTKpaw",
        "outputId": "4c0a3b45-f972-4ed9-9770-092b5c059072"
      },
      "execution_count": 170,
      "outputs": [
        {
          "output_type": "execute_result",
          "data": {
            "text/plain": [
              "'580 m²,4 hab.,Garaje incluido'"
            ],
            "application/vnd.google.colaboratory.intrinsic+json": {
              "type": "string"
            }
          },
          "metadata": {},
          "execution_count": 170
        }
      ]
    },
    {
      "cell_type": "code",
      "source": [
        "\n",
        "# 6. Extraer Características (Básicas, Equipamiento, Certificado)\n",
        "\n",
        "\n",
        "# Buscamos el contenedor principal de todas las características\n",
        "details_container = soup.find('div', class_='details-property')\n",
        "\n",
        "if details_container:\n",
        "    # a) Características básicas\n",
        "    basic_features_div = details_container.find('div', class_='details-property-feature-one')\n",
        "    if basic_features_div:\n",
        "        items = basic_features_div.find_all('li')\n",
        "        datos_inmueble['caracteristicas']['basicas'] = [item.text.strip() for item in items]\n",
        "\n",
        "    # b) Equipamiento y Certificado energético\n",
        "    extra_features_div = details_container.find('div', class_='details-property-feature-two')\n",
        "    if extra_features_div:\n",
        "        # Equipamiento\n",
        "        h2_equipamiento = extra_features_div.find('h2', string='Equipamiento')\n",
        "        if h2_equipamiento:\n",
        "            ul_equipamiento = h2_equipamiento.find_next_sibling('div').find('ul')\n",
        "            items_equip = ul_equipamiento.find_all('li')\n",
        "            datos_inmueble['caracteristicas']['equipamiento'] = [item.text.strip() for item in items_equip]\n",
        "\n",
        "        # Certificado energético\n",
        "        h2_certificado = extra_features_div.find('h2', string='Certificado energético')\n",
        "        if h2_certificado:\n",
        "            datos_inmueble['caracteristicas']['certificado_energetico'] = {}\n",
        "            ul_certificado = h2_certificado.find_next_sibling('div').find('ul')\n",
        "            # Extraer Consumo\n",
        "            try:\n",
        "                consumo_li = ul_certificado.find('span', string='Consumo: ').find_parent('li')\n",
        "                # El truco: la calificación está en la clase del icono\n",
        "                clase_consumo = consumo_li.find('span', class_=lambda x: x and x.startswith('icon-energy-')).get('class')[-1]\n",
        "                calificacion_consumo = clase_consumo.split('-')[-1].upper()\n",
        "                datos_inmueble['caracteristicas']['certificado_energetico']['consumo'] = calificacion_consumo\n",
        "            except:\n",
        "                datos_inmueble['caracteristicas']['certificado_energetico']['consumo'] = \"No indicado\"\n",
        "            # Extraer Emisiones\n",
        "            try:\n",
        "              emisiones_li = ul_certificado.find('span', string='Emisiones: ').find_parent('li')\n",
        "              clase_emisiones = emisiones_li.find('span', class_=lambda x: x and x.startswith('icon-energy-')).get('class')[-1]\n",
        "              calificacion_emisiones = clase_emisiones.split('-')[-1].upper()\n",
        "              datos_inmueble['caracteristicas']['certificado_energetico']['emisiones'] = calificacion_emisiones\n",
        "            except:\n",
        "              datos_inmueble['caracteristicas']['certificado_energetico']['emisiones'] = \"No indicado\"\n",
        "\n",
        "# --- FIN DE LA EXTRACCIÓN ---\n",
        "\n",
        "# 7. Imprimir el diccionario resultante de forma legible\n",
        "print(\"\\n--- DICCIONARIO CON LOS DATOS EXTRAÍDOS ---\")\n",
        "print(datos_inmueble)"
      ],
      "metadata": {
        "colab": {
          "base_uri": "https://localhost:8080/"
        },
        "id": "thubCx4k81Ch",
        "outputId": "3688b954-d9cb-4b09-8643-22b67638b7d2"
      },
      "execution_count": 171,
      "outputs": [
        {
          "output_type": "stream",
          "name": "stdout",
          "text": [
            "\n",
            "--- DICCIONARIO CON LOS DATOS EXTRAÍDOS ---\n",
            "{'titulo': 'Casa o chalet independiente en venta en calle San Antonio de la Florida', 'precio': '397000', 'ubicacion': 'Calle San Antonio de la Florida,Crevillente,Baix Vinalopó,Alicante', 'descripcion': '¿Vivir en la cumbre y tener la ciudad a 5 minutos? ¡Es posible! \\nDescubre esta exclusiva villa en La Florida, Crevillente, donde la tranquilidad de la naturaleza se combina con la comodidad de la ciudad. Con 575 m² construidos sobre una parcela de 2.580 m², esta vivienda unifamiliar de tres plantas ofrece vistas espectaculares al valle y al paraje natural del Hondo, lejos del ruido urbano. \\nCaracterísticas destacadas: \\nUbicación privilegiada: A solo 5 minutos de Crevillente, con acceso rápido a servicios, comercios y ocio. \\nDiseño rústico y elegante: Integrada en la montaña, con tres plantas (dos sobre rasante y un sótano con acceso para vehículos). \\nAmplias terrazas y zonas exteriores: 200 m² de terraza, piscina de 60 m², jacuzzi, barbacoa y huerta ecológica. \\nInteriores espaciosos: Salón-comedor con chimenea y vistas de 180º, cocina con barra americana, bodega para 840 botellas, y cuatro habitaciones (incluida una suite principal). \\nBuhardilla multifuncional: 61 m² con terraza, ideal como dormitorio, gimnasio o sala de juegos. \\nComodidades adicionales: Cobertizo para vehículos, trastero, depósito de agua fluvial y zona para animales domésticos. \\n¡Vive en armonía con la naturaleza sin renunciar a la comodidad urbana! \\n¿A qué esperas? ¡Pide ya tu visita y descubre tu refugio ideal! \\n Tu hogar soñado está más cerca de lo que imaginas.\\nEl precio no incluye lo siguiente: impuestos ( ITP) y otros gastos de la Compraventa (notaria, gestoría y registro). La oferta está sujeta a cambios de precio o retirada del mercado sin previo aviso. Este anuncio en su conjunto, incluyendo textos, fotos, imágenes o cualquier otro contenido del mismo, no es vinculante dado que la información es ofrecida por terceros y puede contener errores. Se muestra a título informativo y no contractual.', 'caracteristicas': {'principales': '580 m²,4 hab.,Garaje incluido', 'basicas': ['Casa o chalet independiente', '3 plantas', '580 m² construidos, 575 m² útiles', '4 habitaciones', '4 baños', 'Parcela de 2.580 m²', 'Terraza y balcón', 'Plaza de garaje incluida en el precio', 'Segunda mano/buen estado', 'Armarios empotrados', 'Trastero', 'Orientación sur', 'Construido en 2001', 'Calefacción individual: Bomba de frío/calor', 'Acceso y vivienda adaptados para personas con movilidad reducida'], 'equipamiento': ['Aire acondicionado', 'Piscina', 'Jardín'], 'certificado_energetico': {'consumo': 'C', 'emisiones': 'C'}}}\n"
          ]
        }
      ]
    },
    {
      "cell_type": "code",
      "source": [
        "# --- MOSTRAR RESULTADOS COMPLETOS ---\n",
        "\n",
        "print(\"\\n--- DATOS DEL INMUEBLE ---\")\n",
        "print(f\"Título: {datos_inmueble['titulo']}\")\n",
        "print(f\"Precio: {datos_inmueble['precio']}\")\n",
        "print(f\"Ubicación: {datos_inmueble['ubicacion']}\")\n",
        "\n",
        "print(\"\\nDescripción:\")\n",
        "print(datos_inmueble['descripcion'])\n",
        "\n",
        "print(\"\\nCaracterísticas:\")\n",
        "caracteristicas = datos_inmueble.get('caracteristicas', {})\n",
        "\n",
        "if caracteristicas:\n",
        "    for clave, valor in caracteristicas.items():\n",
        "        print(f\"\\n· {clave.capitalize()}:\")\n",
        "        if isinstance(valor, list):\n",
        "            for item in valor:\n",
        "                print(f\"  - {item}\")\n",
        "        elif isinstance(valor, dict):\n",
        "            for subclave, subvalor in valor.items():\n",
        "                print(f\"  · {subclave.capitalize()}: {subvalor}\")\n",
        "        else:\n",
        "            print(f\"  - {valor}\")\n",
        "else:\n",
        "    print(\"No se encontraron características.\")\n",
        "\n"
      ],
      "metadata": {
        "colab": {
          "base_uri": "https://localhost:8080/"
        },
        "id": "EkYtXRQxEqdK",
        "outputId": "b814d800-04ab-4ff1-dd5e-bd92d5981dcf"
      },
      "execution_count": 172,
      "outputs": [
        {
          "output_type": "stream",
          "name": "stdout",
          "text": [
            "\n",
            "--- DATOS DEL INMUEBLE ---\n",
            "Título: Casa o chalet independiente en venta en calle San Antonio de la Florida\n",
            "Precio: 397000\n",
            "Ubicación: Calle San Antonio de la Florida,Crevillente,Baix Vinalopó,Alicante\n",
            "\n",
            "Descripción:\n",
            "¿Vivir en la cumbre y tener la ciudad a 5 minutos? ¡Es posible! \n",
            "Descubre esta exclusiva villa en La Florida, Crevillente, donde la tranquilidad de la naturaleza se combina con la comodidad de la ciudad. Con 575 m² construidos sobre una parcela de 2.580 m², esta vivienda unifamiliar de tres plantas ofrece vistas espectaculares al valle y al paraje natural del Hondo, lejos del ruido urbano. \n",
            "Características destacadas: \n",
            "Ubicación privilegiada: A solo 5 minutos de Crevillente, con acceso rápido a servicios, comercios y ocio. \n",
            "Diseño rústico y elegante: Integrada en la montaña, con tres plantas (dos sobre rasante y un sótano con acceso para vehículos). \n",
            "Amplias terrazas y zonas exteriores: 200 m² de terraza, piscina de 60 m², jacuzzi, barbacoa y huerta ecológica. \n",
            "Interiores espaciosos: Salón-comedor con chimenea y vistas de 180º, cocina con barra americana, bodega para 840 botellas, y cuatro habitaciones (incluida una suite principal). \n",
            "Buhardilla multifuncional: 61 m² con terraza, ideal como dormitorio, gimnasio o sala de juegos. \n",
            "Comodidades adicionales: Cobertizo para vehículos, trastero, depósito de agua fluvial y zona para animales domésticos. \n",
            "¡Vive en armonía con la naturaleza sin renunciar a la comodidad urbana! \n",
            "¿A qué esperas? ¡Pide ya tu visita y descubre tu refugio ideal! \n",
            " Tu hogar soñado está más cerca de lo que imaginas.\n",
            "El precio no incluye lo siguiente: impuestos ( ITP) y otros gastos de la Compraventa (notaria, gestoría y registro). La oferta está sujeta a cambios de precio o retirada del mercado sin previo aviso. Este anuncio en su conjunto, incluyendo textos, fotos, imágenes o cualquier otro contenido del mismo, no es vinculante dado que la información es ofrecida por terceros y puede contener errores. Se muestra a título informativo y no contractual.\n",
            "\n",
            "Características:\n",
            "\n",
            "· Principales:\n",
            "  - 580 m²,4 hab.,Garaje incluido\n",
            "\n",
            "· Basicas:\n",
            "  - Casa o chalet independiente\n",
            "  - 3 plantas\n",
            "  - 580 m² construidos, 575 m² útiles\n",
            "  - 4 habitaciones\n",
            "  - 4 baños\n",
            "  - Parcela de 2.580 m²\n",
            "  - Terraza y balcón\n",
            "  - Plaza de garaje incluida en el precio\n",
            "  - Segunda mano/buen estado\n",
            "  - Armarios empotrados\n",
            "  - Trastero\n",
            "  - Orientación sur\n",
            "  - Construido en 2001\n",
            "  - Calefacción individual: Bomba de frío/calor\n",
            "  - Acceso y vivienda adaptados para personas con movilidad reducida\n",
            "\n",
            "· Equipamiento:\n",
            "  - Aire acondicionado\n",
            "  - Piscina\n",
            "  - Jardín\n",
            "\n",
            "· Certificado_energetico:\n",
            "  · Consumo: C\n",
            "  · Emisiones: C\n"
          ]
        }
      ]
    },
    {
      "cell_type": "code",
      "source": [
        "# 4. Comprobar si la petición fue exitosa (código 200)\n",
        "if response.status_code == 200:\n",
        "    print(\"¡Conexión exitosa! Extrayendo datos...\")\n",
        "\n",
        "    # 5. Parsear el contenido HTML con BeautifulSoup\n",
        "    # 'soup' es ahora un objeto que podemos \"interrogar\" para buscar datos.\n",
        "    soup = BeautifulSoup(response.content, 'lxml')\n",
        "\n",
        "    # --- EXTRACCIÓN DE DATOS ---\n",
        "\n",
        "    # a) Extraer el Título\n",
        "    # Buscamos la etiqueta <h1> que tiene la clase 'main-info__title-main'\n",
        "    title_element = soup.find_all(\"h1\", class_=\"main-info__title-main\")\n",
        "    # Limpiamos el texto de espacios extra al principio o al final\n",
        "    titulo = title_element.text.strip() if title_element else \"Título no encontrado\"\n",
        "\n",
        "    # b) Extraer el Precio\n",
        "    # Buscamos la etiqueta <span> con la clase 'info-data-price'\n",
        "    price_element = soup.find(\"span\", class_=\"info-data-price\")\n",
        "    precio = price_element.text.strip() if price_element else \"Precio no encontrado\"\n",
        "\n",
        "    # c) Extraer Características Básicas\n",
        "    # Buscamos el contenedor div con la clase 'details-property-feature-one'\n",
        "    caracteristicas_container = soup.find(\"div\", class_=\"details-property-feature-one\")\n",
        "\n",
        "    lista_caracteristicas = []\n",
        "    if caracteristicas_container:\n",
        "        # Dentro del contenedor, buscamos TODAS las etiquetas <li> (elementos de la lista)\n",
        "        items = caracteristicas_container.find_all(\"li\")\n",
        "        # Recorremos cada item, extraemos su texto y lo añadimos a nuestra lista\n",
        "        for item in items:\n",
        "            lista_caracteristicas.append(item.text.strip())\n",
        "\n",
        "    # --- MOSTRAR RESULTADOS ---\n",
        "\n",
        "    print(\"\\n--- DATOS DEL INMUEBLE ---\")\n",
        "    print(f\"Título: {titulo}\")\n",
        "    print(f\"Precio: {precio}\")\n",
        "    print(\"\\nCaracterísticas:\")\n",
        "    if lista_caracteristicas:\n",
        "        for caracteristica in lista_caracteristicas:\n",
        "            print(f\"- {caracteristica}\")\n",
        "    else:\n",
        "        print(\"No se encontraron características básicas.\")\n",
        "\n",
        "else:\n",
        "    print(f\"Error al acceder a la página. Código de estado: {response.status_code}\")"
      ],
      "metadata": {
        "colab": {
          "base_uri": "https://localhost:8080/"
        },
        "id": "l8Dt1gp32trz",
        "outputId": "df9d9ee5-e2cd-4c6e-928d-efd127ded21b"
      },
      "execution_count": 173,
      "outputs": [
        {
          "output_type": "stream",
          "name": "stdout",
          "text": [
            "¡Conexión exitosa! Extrayendo datos...\n",
            "\n",
            "--- DATOS DEL INMUEBLE ---\n",
            "Título: Título no encontrado\n",
            "Precio: 397.000 €\n",
            "\n",
            "Características:\n",
            "- Casa o chalet independiente\n",
            "- 3 plantas\n",
            "- 580 m² construidos, 575 m² útiles\n",
            "- 4 habitaciones\n",
            "- 4 baños\n",
            "- Parcela de 2.580 m²\n",
            "- Terraza y balcón\n",
            "- Plaza de garaje incluida en el precio\n",
            "- Segunda mano/buen estado\n",
            "- Armarios empotrados\n",
            "- Trastero\n",
            "- Orientación sur\n",
            "- Construido en 2001\n",
            "- Calefacción individual: Bomba de frío/calor\n",
            "- Acceso y vivienda adaptados para personas con movilidad reducida\n"
          ]
        }
      ]
    },
    {
      "cell_type": "code",
      "source": [
        "# 1. Importar las librerías necesarias\n",
        "from bs4 import BeautifulSoup\n",
        "import json  # Para procesar los datos de las fotos\n",
        "import pprint # Para imprimir el diccionario de forma bonita\n",
        "\n",
        "# 2. El contenido HTML que proporcionaste\n",
        "# Asegúrate de pegar todo el código HTML del anuncio dentro de las triples comillas.\n",
        "html_content = \"\"\"\n",
        "<!DOCTYPE html>\n",
        "<html class=\"\" data-userauth=\"false\" env=\"es\" lang=\"es\" username=\"\">\n",
        "<!-- PEGA AQUÍ EL HTML COMPLETO -->\n",
        "</html>\n",
        "\"\"\"\n",
        "\n",
        "# 3. Parsear el HTML con BeautifulSoup\n",
        "print(\"Analizando el código HTML del anuncio...\")\n",
        "soup = BeautifulSoup(html_content, 'lxml')\n",
        "\n",
        "# 4. Crear un diccionario para almacenar los datos\n",
        "datos_casa = {}\n",
        "\n",
        "# --- EXTRACCIÓN DE DATOS ---\n",
        "\n",
        "# a) PRECIO Y UBICACIÓN\n",
        "print(\"Extrayendo precio y ubicación...\")\n",
        "# Usamos .strip() para limpiar espacios en blanco\n",
        "datos_casa['precio'] = soup.find('span', class_='info-data-price').text.strip()\n",
        "titulo_main = soup.find('span', class_='main-info__title-main').text.strip()\n",
        "titulo_minor = soup.find('span', class_='main-info__title-minor').text.strip()\n",
        "datos_casa['ubicacion'] = f\"{titulo_main}, {titulo_minor}\"\n",
        "\n",
        "# b) LINKS DE LAS FOTOS (El método más eficaz)\n",
        "print(\"Extrayendo links de las fotos...\")\n",
        "# ¡Aquí está la magia! Los datos de las fotos están en un script, lo que es más fácil de procesar.\n",
        "scripts = soup.find_all('script')\n",
        "photo_data_script = None\n",
        "for script in scripts:\n",
        "    if script.string and 'adMultimediasInfo' in script.string:\n",
        "        photo_data_script = script.string\n",
        "        break\n",
        "\n",
        "if photo_data_script:\n",
        "    # Limpiamos el string para que sea un JSON válido\n",
        "    json_string = photo_data_script.split('adMultimediasInfo = ', 1)[1].strip().rstrip(';')\n",
        "    multimedia_data = json.loads(json_string)\n",
        "\n",
        "    # Extraemos las URLs de alta resolución\n",
        "    fotos = multimedia_data.get('fullScreenGalleryPics', [])\n",
        "    datos_casa['links_fotos'] = [foto['imageDataService'] for foto in fotos]\n",
        "else:\n",
        "    datos_casa['links_fotos'] = [\"No se encontraron datos de fotos en el script.\"]\n",
        "\n",
        "# c) DATOS ADICIONALES SUGERIDOS\n",
        "print(\"Extrayendo datos adicionales sugeridos...\")\n",
        "datos_casa['sugerencias'] = {}\n",
        "\n",
        "# Descripción del anunciante\n",
        "descripcion_container = soup.find('div', class_='adCommentsLanguage')\n",
        "if descripcion_container and descripcion_container.find('p'):\n",
        "    datos_casa['sugerencias']['descripcion'] = descripcion_container.find('p').get_text(separator='\\n').strip()\n",
        "\n",
        "# Características Básicas\n",
        "basic_features_div = soup.find('div', class_='details-property-feature-one')\n",
        "if basic_features_div:\n",
        "    items = basic_features_div.find_all('li')\n",
        "    datos_casa['sugerencias']['caracteristicas_basicas'] = [item.text.strip() for item in items]\n",
        "\n",
        "# Equipamiento\n",
        "extra_features_div = soup.find('div', class_='details-property-feature-two')\n",
        "if extra_features_div and extra_features_div.find('h2', string='Equipamiento'):\n",
        "    ul_equipamiento = extra_features_div.find('h2', string='Equipamiento').find_next_sibling('div').find('ul')\n",
        "    items_equip = ul_equipamiento.find_all('li')\n",
        "    datos_casa['sugerencias']['equipamiento'] = [item.text.strip() for item in items_equip]\n",
        "\n",
        "# Nombre del anunciante y referencia\n",
        "datos_casa['sugerencias']['anunciante'] = soup.find('a', class_='about-advertiser-name').text.strip()\n",
        "datos_casa['sugerencias']['referencia'] = soup.find('p', class_='txt-ref').text.strip()\n",
        "\n",
        "\n",
        "# --- FIN DE LA EXTRACCIÓN ---\n",
        "\n",
        "# 5. Imprimir el diccionario resultante de forma legible\n",
        "print(\"\\n--- DATOS EXTRAÍDOS DEL INMUEBLE ---\")\n",
        "pprint.pprint(datos_casa)"
      ],
      "metadata": {
        "colab": {
          "base_uri": "https://localhost:8080/",
          "height": 245
        },
        "id": "44fC7JORBX0E",
        "outputId": "f0ad859e-8452-474e-ff21-b05c427bd578"
      },
      "execution_count": 174,
      "outputs": [
        {
          "output_type": "stream",
          "name": "stdout",
          "text": [
            "Analizando el código HTML del anuncio...\n",
            "Extrayendo precio y ubicación...\n"
          ]
        },
        {
          "output_type": "error",
          "ename": "AttributeError",
          "evalue": "'NoneType' object has no attribute 'text'",
          "traceback": [
            "\u001b[0;31m---------------------------------------------------------------------------\u001b[0m",
            "\u001b[0;31mAttributeError\u001b[0m                            Traceback (most recent call last)",
            "\u001b[0;32m<ipython-input-174-2093176978>\u001b[0m in \u001b[0;36m<cell line: 0>\u001b[0;34m()\u001b[0m\n\u001b[1;32m     25\u001b[0m \u001b[0mprint\u001b[0m\u001b[0;34m(\u001b[0m\u001b[0;34m\"Extrayendo precio y ubicación...\"\u001b[0m\u001b[0;34m)\u001b[0m\u001b[0;34m\u001b[0m\u001b[0;34m\u001b[0m\u001b[0m\n\u001b[1;32m     26\u001b[0m \u001b[0;31m# Usamos .strip() para limpiar espacios en blanco\u001b[0m\u001b[0;34m\u001b[0m\u001b[0;34m\u001b[0m\u001b[0m\n\u001b[0;32m---> 27\u001b[0;31m \u001b[0mdatos_casa\u001b[0m\u001b[0;34m[\u001b[0m\u001b[0;34m'precio'\u001b[0m\u001b[0;34m]\u001b[0m \u001b[0;34m=\u001b[0m \u001b[0msoup\u001b[0m\u001b[0;34m.\u001b[0m\u001b[0mfind\u001b[0m\u001b[0;34m(\u001b[0m\u001b[0;34m'span'\u001b[0m\u001b[0;34m,\u001b[0m \u001b[0mclass_\u001b[0m\u001b[0;34m=\u001b[0m\u001b[0;34m'info-data-price'\u001b[0m\u001b[0;34m)\u001b[0m\u001b[0;34m.\u001b[0m\u001b[0mtext\u001b[0m\u001b[0;34m.\u001b[0m\u001b[0mstrip\u001b[0m\u001b[0;34m(\u001b[0m\u001b[0;34m)\u001b[0m\u001b[0;34m\u001b[0m\u001b[0;34m\u001b[0m\u001b[0m\n\u001b[0m\u001b[1;32m     28\u001b[0m \u001b[0mtitulo_main\u001b[0m \u001b[0;34m=\u001b[0m \u001b[0msoup\u001b[0m\u001b[0;34m.\u001b[0m\u001b[0mfind\u001b[0m\u001b[0;34m(\u001b[0m\u001b[0;34m'span'\u001b[0m\u001b[0;34m,\u001b[0m \u001b[0mclass_\u001b[0m\u001b[0;34m=\u001b[0m\u001b[0;34m'main-info__title-main'\u001b[0m\u001b[0;34m)\u001b[0m\u001b[0;34m.\u001b[0m\u001b[0mtext\u001b[0m\u001b[0;34m.\u001b[0m\u001b[0mstrip\u001b[0m\u001b[0;34m(\u001b[0m\u001b[0;34m)\u001b[0m\u001b[0;34m\u001b[0m\u001b[0;34m\u001b[0m\u001b[0m\n\u001b[1;32m     29\u001b[0m \u001b[0mtitulo_minor\u001b[0m \u001b[0;34m=\u001b[0m \u001b[0msoup\u001b[0m\u001b[0;34m.\u001b[0m\u001b[0mfind\u001b[0m\u001b[0;34m(\u001b[0m\u001b[0;34m'span'\u001b[0m\u001b[0;34m,\u001b[0m \u001b[0mclass_\u001b[0m\u001b[0;34m=\u001b[0m\u001b[0;34m'main-info__title-minor'\u001b[0m\u001b[0;34m)\u001b[0m\u001b[0;34m.\u001b[0m\u001b[0mtext\u001b[0m\u001b[0;34m.\u001b[0m\u001b[0mstrip\u001b[0m\u001b[0;34m(\u001b[0m\u001b[0;34m)\u001b[0m\u001b[0;34m\u001b[0m\u001b[0;34m\u001b[0m\u001b[0m\n",
            "\u001b[0;31mAttributeError\u001b[0m: 'NoneType' object has no attribute 'text'"
          ]
        }
      ]
    }
  ]
}